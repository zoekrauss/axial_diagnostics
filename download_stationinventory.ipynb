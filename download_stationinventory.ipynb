{
 "cells": [
  {
   "cell_type": "markdown",
   "metadata": {},
   "source": [
    "## Create station inventory for OO network in .xml format, as needed for the PSD plots"
   ]
  },
  {
   "cell_type": "code",
   "execution_count": 2,
   "metadata": {},
   "outputs": [],
   "source": [
    "import pickle\n",
    "from datetime import datetime\n",
    "from datetime import timedelta\n",
    "import obspy\n",
    "from obspy.clients.fdsn.client import Client"
   ]
  },
  {
   "cell_type": "code",
   "execution_count": 3,
   "metadata": {},
   "outputs": [],
   "source": [
    "client = Client(\"IRIS\")\n",
    "starttime = obspy.UTCDateTime(\"2022-01-01\")\n",
    "endtime = obspy.UTCDateTime(\"2023-07-02\")\n",
    "inventory = client.get_stations(network=\"OO\", station=\"*\",\n",
    "                                starttime=starttime,\n",
    "                                endtime=endtime,level='response')"
   ]
  },
  {
   "cell_type": "code",
   "execution_count": 4,
   "metadata": {},
   "outputs": [
    {
     "data": {
      "text/plain": [
       "Inventory created at 2023-07-31T20:56:11.839700Z\n",
       "\tCreated by: IRIS WEB SERVICE: fdsnws-station | version: 1.1.52\n",
       "\t\t    http://service.iris.edu/fdsnws/station/1/query?starttime=2022-01-01...\n",
       "\tSending institution: IRIS-DMC (IRIS-DMC)\n",
       "\tContains:\n",
       "\t\tNetworks (1):\n",
       "\t\t\tOO\n",
       "\t\tStations (14):\n",
       "\t\t\tOO.AXAS1 (RSN Axial Ashes 1)\n",
       "\t\t\tOO.AXAS2 (RSN Axial Ashes 2)\n",
       "\t\t\tOO.AXBA1 (RSN Axial Base 1)\n",
       "\t\t\tOO.AXCC1 (RSN Axial East Caldera 1)\n",
       "\t\t\tOO.AXCC2 (RSN Axial Central Caldera 2)\n",
       "\t\t\tOO.AXEC1 (RSN Axial East Caldera 1)\n",
       "\t\t\tOO.AXEC2 (RSN Axial East Caldera 2)\n",
       "\t\t\tOO.AXEC3 (RSN Axial East Caldera 3)\n",
       "\t\t\tOO.AXID1 (RSN Axial International)\n",
       "\t\t\tOO.HYS11 (RSN Hydrate Summit 1-1)\n",
       "\t\t\tOO.HYS12 (RSN Hydrate Summit 1-2)\n",
       "\t\t\tOO.HYS13 (RSN Hydrate Summit 1-3)\n",
       "\t\t\tOO.HYS14 (RSN Hydrate Summit 1-4)\n",
       "\t\t\tOO.HYSB1 (RSN Hydrate Slope Base)\n",
       "\t\tChannels (221):\n",
       "\t\t\tOO.AXAS1..EHZ, OO.AXAS1..EHN, OO.AXAS1..EHE, OO.AXAS1..LHZ, \n",
       "\t\t\tOO.AXAS1..LHN, OO.AXAS1..LHE, OO.AXAS1..MHZ, OO.AXAS1..MHN, \n",
       "\t\t\tOO.AXAS1..MHE, OO.AXAS1..SHZ, OO.AXAS1..SHN, OO.AXAS1..SHE, \n",
       "\t\t\tOO.AXAS2..EHZ, OO.AXAS2..EHN, OO.AXAS2..EHE, OO.AXAS2..LHZ, \n",
       "\t\t\tOO.AXAS2..LHN, OO.AXAS2..LHE, OO.AXAS2..MHZ, OO.AXAS2..MHN, \n",
       "\t\t\tOO.AXAS2..MHE, OO.AXAS2..SHZ, OO.AXAS2..SHN, OO.AXAS2..SHE, \n",
       "\t\t\tOO.AXBA1..BHZ, OO.AXBA1..BHN, OO.AXBA1..BHE, OO.AXBA1..HDH, \n",
       "\t\t\tOO.AXBA1..HHZ, OO.AXBA1..HHN, OO.AXBA1..HHE, OO.AXBA1..HNZ, \n",
       "\t\t\tOO.AXBA1..HNN, OO.AXBA1..HNE, OO.AXBA1..LDH, OO.AXBA1..LHZ, \n",
       "\t\t\tOO.AXBA1..LHN, OO.AXBA1..LHE, OO.AXBA1..MHZ, OO.AXBA1..MHN, \n",
       "\t\t\tOO.AXBA1..MHE, OO.AXCC1..BHZ, OO.AXCC1..BHN, OO.AXCC1..BHE, \n",
       "\t\t\tOO.AXCC1..HDH, OO.AXCC1..HHZ, OO.AXCC1..HHN, OO.AXCC1..HHE, \n",
       "\t\t\tOO.AXCC1..HNZ, OO.AXCC1..HNN, OO.AXCC1..HNE, OO.AXCC1..LDH, \n",
       "\t\t\tOO.AXCC1..LHZ, OO.AXCC1..LHN, OO.AXCC1..LHE, OO.AXCC1..MHZ, \n",
       "\t\t\tOO.AXCC1..MHN, OO.AXCC1..MHE, OO.AXCC1.11.BDO, OO.AXCC1.11.BK1, \n",
       "\t\t\tOO.AXCC1.11.LAA, OO.AXCC1.11.LAX, OO.AXCC1.11.LAY, OO.AXCC1.12.LAA\n",
       "\t\t\tOO.AXCC1.12.LAD, OO.AXCC1.12.LAM, OO.AXCC2..AHD, OO.AXCC2..BKA, \n",
       "\t\t\tOO.AXCC2..BNZ, OO.AXCC2..BNN, OO.AXCC2..BNE, OO.AXCC2..BNG, \n",
       "\t\t\tOO.AXCC2..BXG, OO.AXCC2..MKA, OO.AXCC2..MNZ, OO.AXCC2..MNN, \n",
       "\t\t\tOO.AXCC2..MNE, OO.AXCC2..MNG, OO.AXCC2..MXG, OO.AXEC1..EHZ, \n",
       "\t\t\tOO.AXEC1..EHN, OO.AXEC1..EHE, OO.AXEC1..LHZ, OO.AXEC1..LHN, \n",
       "\t\t\tOO.AXEC1..LHE, OO.AXEC1..MHZ, OO.AXEC1..MHN, OO.AXEC1..MHE, \n",
       "\t\t\tOO.AXEC1..SHZ, OO.AXEC1..SHN, OO.AXEC1..SHE, OO.AXEC2..BHZ, \n",
       "\t\t\tOO.AXEC2..BHN, OO.AXEC2..BHE, OO.AXEC2..HDH, OO.AXEC2..HHZ, \n",
       "\t\t\tOO.AXEC2..HHN, OO.AXEC2..HHE, OO.AXEC2..HNZ, OO.AXEC2..HNN, \n",
       "\t\t\tOO.AXEC2..HNE, OO.AXEC2..LDH, OO.AXEC2..LHZ, OO.AXEC2..LHN, \n",
       "\t\t\tOO.AXEC2..LHE, OO.AXEC2..MHZ, OO.AXEC2..MHN, OO.AXEC2..MHE, \n",
       "\t\t\tOO.AXEC2.11.BDO, OO.AXEC2.11.BK1, OO.AXEC2.11.LAA, OO.AXEC2.11.LAX\n",
       "\t\t\tOO.AXEC2.11.LAY, OO.AXEC2.12.LAA, OO.AXEC2.12.LAD, \n",
       "\t\t\tOO.AXEC2.12.LAM, OO.AXEC3..EHZ, OO.AXEC3..EHN, OO.AXEC3..EHE, \n",
       "\t\t\tOO.AXEC3..LHZ, OO.AXEC3..LHN, OO.AXEC3..LHE, OO.AXEC3..MHZ, \n",
       "\t\t\tOO.AXEC3..MHN, OO.AXEC3..MHE, OO.AXEC3..SHZ, OO.AXEC3..SHN, \n",
       "\t\t\tOO.AXEC3..SHE, OO.AXID1..EHZ, OO.AXID1..EHN, OO.AXID1..EHE, \n",
       "\t\t\tOO.AXID1..LHZ, OO.AXID1..LHN, OO.AXID1..LHE, OO.AXID1..MHZ, \n",
       "\t\t\tOO.AXID1..MHN, OO.AXID1..MHE, OO.AXID1..SHZ, OO.AXID1..SHN, \n",
       "\t\t\tOO.AXID1..SHE, OO.AXID1.11.BDO, OO.AXID1.11.BK1, OO.AXID1.11.LAA, \n",
       "\t\t\tOO.AXID1.11.LAX, OO.AXID1.11.LAY, OO.AXID1.12.LAA, OO.AXID1.12.LAD\n",
       "\t\t\tOO.AXID1.12.LAM, OO.HYS11..EHZ, OO.HYS11..EHN, OO.HYS11..EHE, \n",
       "\t\t\tOO.HYS11..LHZ, OO.HYS11..LHN, OO.HYS11..LHE, OO.HYS11..MHZ, \n",
       "\t\t\tOO.HYS11..MHN, OO.HYS11..MHE, OO.HYS11..SHZ, OO.HYS11..SHN, \n",
       "\t\t\tOO.HYS11..SHE, OO.HYS12..EHZ, OO.HYS12..EHN, OO.HYS12..EHE, \n",
       "\t\t\tOO.HYS12..LHZ, OO.HYS12..LHN, OO.HYS12..LHE, OO.HYS12..MHZ, \n",
       "\t\t\tOO.HYS12..MHN, OO.HYS12..MHE, OO.HYS12..SHZ, OO.HYS12..SHN, \n",
       "\t\t\tOO.HYS12..SHE, OO.HYS13..EHZ, OO.HYS13..EHN, OO.HYS13..EHE, \n",
       "\t\t\tOO.HYS13..LHZ, OO.HYS13..LHN, OO.HYS13..LHE, OO.HYS13..LMZ, \n",
       "\t\t\tOO.HYS13..LMN, OO.HYS13..LME, OO.HYS13..MHZ, OO.HYS13..MHN, \n",
       "\t\t\tOO.HYS13..MHE, OO.HYS13..SHZ, OO.HYS13..SHN, OO.HYS13..SHE, \n",
       "\t\t\tOO.HYS14..BHZ, OO.HYS14..BHN, OO.HYS14..BHE, OO.HYS14..HDH, \n",
       "\t\t\tOO.HYS14..HHZ, OO.HYS14..HHN, OO.HYS14..HHE, OO.HYS14..HNZ, \n",
       "\t\t\tOO.HYS14..HNN, OO.HYS14..HNE, OO.HYS14..LDH, OO.HYS14..LHZ, \n",
       "\t\t\tOO.HYS14..LHN, OO.HYS14..LHE, OO.HYS14..MHZ, OO.HYS14..MHN, \n",
       "\t\t\tOO.HYS14..MHE, OO.HYSB1..BHZ, OO.HYSB1..BHN, OO.HYSB1..BHE, \n",
       "\t\t\tOO.HYSB1..HDH, OO.HYSB1..HHZ, OO.HYSB1..HHN, OO.HYSB1..HHE, \n",
       "\t\t\tOO.HYSB1..HNZ, OO.HYSB1..HNN, OO.HYSB1..HNE, OO.HYSB1..LDH, \n",
       "\t\t\tOO.HYSB1..LHZ, OO.HYSB1..LHN, OO.HYSB1..LHE, OO.HYSB1..MHZ, \n",
       "\t\t\tOO.HYSB1..MHN, OO.HYSB1..MHE"
      ]
     },
     "execution_count": 4,
     "metadata": {},
     "output_type": "execute_result"
    }
   ],
   "source": [
    "inventory"
   ]
  },
  {
   "cell_type": "code",
   "execution_count": 5,
   "metadata": {},
   "outputs": [],
   "source": [
    "# Write to file\n",
    "inventory.write(\"OO.xml\",format=\"STATIONXML\")"
   ]
  },
  {
   "cell_type": "code",
   "execution_count": null,
   "metadata": {},
   "outputs": [],
   "source": []
  }
 ],
 "metadata": {
  "kernelspec": {
   "display_name": "alaska-ml",
   "language": "python",
   "name": "alaska-ml"
  },
  "language_info": {
   "codemirror_mode": {
    "name": "ipython",
    "version": 3
   },
   "file_extension": ".py",
   "mimetype": "text/x-python",
   "name": "python",
   "nbconvert_exporter": "python",
   "pygments_lexer": "ipython3",
   "version": "3.9.9"
  }
 },
 "nbformat": 4,
 "nbformat_minor": 4
}
